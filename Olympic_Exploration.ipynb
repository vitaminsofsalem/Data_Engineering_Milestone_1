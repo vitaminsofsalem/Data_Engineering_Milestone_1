{
 "cells": [
  {
   "cell_type": "code",
   "execution_count": 1,
   "id": "c4484e16-338e-4329-a495-3ba866f0562a",
   "metadata": {},
   "outputs": [],
   "source": [
    "import numpy as np\n",
    "import pandas as pd\n",
    "import matplotlib.pyplot as plt\n",
    "import seaborn as sns\n",
    "from sklearn.multiclass import OneVsRestClassifier\n",
    "from sklearn.svm import SVC\n",
    "from dataprep.clean import clean_country\n",
    "from scipy import stats\n",
    "pd.options.mode.chained_assignment = None\n",
    "\n",
    "#custom modules\n",
    "from DataProcTools import Features\n",
    "from DataProcTools.DataCleaning import Outliers\n",
    "from DataProcTools.DataCleaning import MissingValues"
   ]
  },
  {
   "cell_type": "markdown",
   "id": "f7d77508",
   "metadata": {},
   "source": [
    "### Loading the Dataset and Exploring"
   ]
  },
  {
   "cell_type": "code",
   "execution_count": 2,
   "id": "8a166373",
   "metadata": {
    "scrolled": true
   },
   "outputs": [
    {
     "name": "stdout",
     "output_type": "stream",
     "text": [
      "<class 'pandas.core.frame.DataFrame'>\n",
      "RangeIndex: 271116 entries, 0 to 271115\n",
      "Data columns (total 15 columns):\n",
      " #   Column  Non-Null Count   Dtype  \n",
      "---  ------  --------------   -----  \n",
      " 0   ID      271116 non-null  int64  \n",
      " 1   Name    271116 non-null  object \n",
      " 2   Sex     271116 non-null  object \n",
      " 3   Age     261642 non-null  float64\n",
      " 4   Height  210945 non-null  float64\n",
      " 5   Weight  208241 non-null  float64\n",
      " 6   Team    271116 non-null  object \n",
      " 7   NOC     271116 non-null  object \n",
      " 8   Games   271116 non-null  object \n",
      " 9   Year    271116 non-null  int64  \n",
      " 10  Season  271116 non-null  object \n",
      " 11  City    271116 non-null  object \n",
      " 12  Sport   271116 non-null  object \n",
      " 13  Event   271116 non-null  object \n",
      " 14  Medal   39783 non-null   object \n",
      "dtypes: float64(3), int64(2), object(10)\n",
      "memory usage: 31.0+ MB\n"
     ]
    },
    {
     "data": {
      "text/html": [
       "<div>\n",
       "<style scoped>\n",
       "    .dataframe tbody tr th:only-of-type {\n",
       "        vertical-align: middle;\n",
       "    }\n",
       "\n",
       "    .dataframe tbody tr th {\n",
       "        vertical-align: top;\n",
       "    }\n",
       "\n",
       "    .dataframe thead th {\n",
       "        text-align: right;\n",
       "    }\n",
       "</style>\n",
       "<table border=\"1\" class=\"dataframe\">\n",
       "  <thead>\n",
       "    <tr style=\"text-align: right;\">\n",
       "      <th></th>\n",
       "      <th>ID</th>\n",
       "      <th>Name</th>\n",
       "      <th>Sex</th>\n",
       "      <th>Age</th>\n",
       "      <th>Height</th>\n",
       "      <th>Weight</th>\n",
       "      <th>Team</th>\n",
       "      <th>NOC</th>\n",
       "      <th>Games</th>\n",
       "      <th>Year</th>\n",
       "      <th>Season</th>\n",
       "      <th>City</th>\n",
       "      <th>Sport</th>\n",
       "      <th>Event</th>\n",
       "      <th>Medal</th>\n",
       "    </tr>\n",
       "  </thead>\n",
       "  <tbody>\n",
       "    <tr>\n",
       "      <th>0</th>\n",
       "      <td>1</td>\n",
       "      <td>A Dijiang</td>\n",
       "      <td>M</td>\n",
       "      <td>24.0</td>\n",
       "      <td>180.0</td>\n",
       "      <td>80.0</td>\n",
       "      <td>China</td>\n",
       "      <td>CHN</td>\n",
       "      <td>1992 Summer</td>\n",
       "      <td>1992</td>\n",
       "      <td>Summer</td>\n",
       "      <td>Barcelona</td>\n",
       "      <td>Basketball</td>\n",
       "      <td>Basketball Men's Basketball</td>\n",
       "      <td>NaN</td>\n",
       "    </tr>\n",
       "    <tr>\n",
       "      <th>1</th>\n",
       "      <td>2</td>\n",
       "      <td>A Lamusi</td>\n",
       "      <td>M</td>\n",
       "      <td>23.0</td>\n",
       "      <td>170.0</td>\n",
       "      <td>60.0</td>\n",
       "      <td>China</td>\n",
       "      <td>CHN</td>\n",
       "      <td>2012 Summer</td>\n",
       "      <td>2012</td>\n",
       "      <td>Summer</td>\n",
       "      <td>London</td>\n",
       "      <td>Judo</td>\n",
       "      <td>Judo Men's Extra-Lightweight</td>\n",
       "      <td>NaN</td>\n",
       "    </tr>\n",
       "    <tr>\n",
       "      <th>2</th>\n",
       "      <td>3</td>\n",
       "      <td>Gunnar Nielsen Aaby</td>\n",
       "      <td>M</td>\n",
       "      <td>24.0</td>\n",
       "      <td>NaN</td>\n",
       "      <td>NaN</td>\n",
       "      <td>Denmark</td>\n",
       "      <td>DEN</td>\n",
       "      <td>1920 Summer</td>\n",
       "      <td>1920</td>\n",
       "      <td>Summer</td>\n",
       "      <td>Antwerpen</td>\n",
       "      <td>Football</td>\n",
       "      <td>Football Men's Football</td>\n",
       "      <td>NaN</td>\n",
       "    </tr>\n",
       "    <tr>\n",
       "      <th>3</th>\n",
       "      <td>4</td>\n",
       "      <td>Edgar Lindenau Aabye</td>\n",
       "      <td>M</td>\n",
       "      <td>34.0</td>\n",
       "      <td>NaN</td>\n",
       "      <td>NaN</td>\n",
       "      <td>Denmark/Sweden</td>\n",
       "      <td>DEN</td>\n",
       "      <td>1900 Summer</td>\n",
       "      <td>1900</td>\n",
       "      <td>Summer</td>\n",
       "      <td>Paris</td>\n",
       "      <td>Tug-Of-War</td>\n",
       "      <td>Tug-Of-War Men's Tug-Of-War</td>\n",
       "      <td>Gold</td>\n",
       "    </tr>\n",
       "    <tr>\n",
       "      <th>4</th>\n",
       "      <td>5</td>\n",
       "      <td>Christine Jacoba Aaftink</td>\n",
       "      <td>F</td>\n",
       "      <td>21.0</td>\n",
       "      <td>185.0</td>\n",
       "      <td>82.0</td>\n",
       "      <td>Netherlands</td>\n",
       "      <td>NED</td>\n",
       "      <td>1988 Winter</td>\n",
       "      <td>1988</td>\n",
       "      <td>Winter</td>\n",
       "      <td>Calgary</td>\n",
       "      <td>Speed Skating</td>\n",
       "      <td>Speed Skating Women's 500 metres</td>\n",
       "      <td>NaN</td>\n",
       "    </tr>\n",
       "  </tbody>\n",
       "</table>\n",
       "</div>"
      ],
      "text/plain": [
       "   ID                      Name Sex   Age  Height  Weight            Team  \\\n",
       "0   1                 A Dijiang   M  24.0   180.0    80.0           China   \n",
       "1   2                  A Lamusi   M  23.0   170.0    60.0           China   \n",
       "2   3       Gunnar Nielsen Aaby   M  24.0     NaN     NaN         Denmark   \n",
       "3   4      Edgar Lindenau Aabye   M  34.0     NaN     NaN  Denmark/Sweden   \n",
       "4   5  Christine Jacoba Aaftink   F  21.0   185.0    82.0     Netherlands   \n",
       "\n",
       "   NOC        Games  Year  Season       City          Sport  \\\n",
       "0  CHN  1992 Summer  1992  Summer  Barcelona     Basketball   \n",
       "1  CHN  2012 Summer  2012  Summer     London           Judo   \n",
       "2  DEN  1920 Summer  1920  Summer  Antwerpen       Football   \n",
       "3  DEN  1900 Summer  1900  Summer      Paris     Tug-Of-War   \n",
       "4  NED  1988 Winter  1988  Winter    Calgary  Speed Skating   \n",
       "\n",
       "                              Event Medal  \n",
       "0       Basketball Men's Basketball   NaN  \n",
       "1      Judo Men's Extra-Lightweight   NaN  \n",
       "2           Football Men's Football   NaN  \n",
       "3       Tug-Of-War Men's Tug-Of-War  Gold  \n",
       "4  Speed Skating Women's 500 metres   NaN  "
      ]
     },
     "execution_count": 2,
     "metadata": {},
     "output_type": "execute_result"
    }
   ],
   "source": [
    "dataset = pd.read_csv('./data/athlete_events.csv')\n",
    "\n",
    "# Initial dataset info before imputation\n",
    "dataset.info()\n",
    "dataset.head()"
   ]
  },
  {
   "cell_type": "markdown",
   "id": "ec6a77bd",
   "metadata": {},
   "source": [
    "# Filling The Gap : imputing missing values\n",
    "### Steps take to impute the data ( broken down by cell ):\n",
    "Note that all the actual function implementation are done in a separate python file and the methods are called here. Please refer to that file to look at the implementation\n",
    "- We first stat by describing our data to see which columns have null values and we determine that Age, Height, Weight, and Medals all have null values.\n",
    "- The next step is to find the percentages of these null values in order to apply a proper imputation technique.\n",
    "- We Learn that Age has 3% missing values, Height & Weight have 22% and Medals a whopping 85% missing rate\n",
    "- The Age, Height and Weight are most likely MACR data due to issue with data gathering of the dataset\n",
    "- The Medal is MNAR because most people that enter the olympics don't win a medal"
   ]
  },
  {
   "cell_type": "code",
   "execution_count": 3,
   "id": "1b44a607",
   "metadata": {},
   "outputs": [
    {
     "name": "stdout",
     "output_type": "stream",
     "text": [
      "                  ID            Age         Height         Weight  \\\n",
      "count  271116.000000  261642.000000  210945.000000  208241.000000   \n",
      "mean    68248.954396      25.556898     175.338970      70.702393   \n",
      "std     39022.286345       6.393561      10.518462      14.348020   \n",
      "min         1.000000      10.000000     127.000000      25.000000   \n",
      "25%     34643.000000      21.000000     168.000000      60.000000   \n",
      "50%     68205.000000      24.000000     175.000000      70.000000   \n",
      "75%    102097.250000      28.000000     183.000000      79.000000   \n",
      "max    135571.000000      97.000000     226.000000     214.000000   \n",
      "\n",
      "                Year  \n",
      "count  271116.000000  \n",
      "mean     1978.378480  \n",
      "std        29.877632  \n",
      "min      1896.000000  \n",
      "25%      1960.000000  \n",
      "50%      1988.000000  \n",
      "75%      2002.000000  \n",
      "max      2016.000000  \n",
      "\n",
      "Missing values Percentages:  {'Age': 3.494, 'Height': 22.194, 'Weight': 23.191, 'Medal': 85.326}\n"
     ]
    }
   ],
   "source": [
    "missingValuesInfo = MissingValues.get_nan_values_percentage(dataset)\n",
    "print(dataset.describe())\n",
    "print()\n",
    "print(\"Missing values Percentages: \", missingValuesInfo)"
   ]
  },
  {
   "cell_type": "markdown",
   "id": "12ebc846",
   "metadata": {},
   "source": [
    "- The imputations techniques for each column is as follows:\n",
    "- Age: Frequent Category Imputation where we replace the Ages with the mode and substitue the nulls for that ( this is because the null value are less than 5% range )\n",
    "- Height, Weight: We fill those columns up using Multivariate Imputation that is inferred from the average Height and Weight per NOC ( country ) and we substitue this data in.\n",
    "- Medals: Arbitrary Value Imputation was used where we just replace each occurance of 'NaN' with 'No_Medal' to indicate that no medal was won. This is possible since the data isNOT missing at random.\n",
    "- We display that dataset info and head after imputation\n",
    "- All implementations of this are in the Missing_Values.py file in the DataProc folder\n",
    "- We didn't remove the outliers because Dr Nada send an email allowing us to skip this step"
   ]
  },
  {
   "cell_type": "code",
   "execution_count": null,
   "id": "f52501fb",
   "metadata": {},
   "outputs": [],
   "source": [
    "# Average age per NOC ( country ) for every team entry\n",
    "dataset[['Age','NOC']].groupby('NOC').Age.apply(lambda x: x.mode())\n",
    "\n",
    "# Get average height and weight based & groupby NOC\n",
    "average_height = dataset[['Height','NOC']].groupby('NOC').mean()\n",
    "average_weight = dataset[['Weight','NOC']].groupby('NOC').mean()\n",
    "\n",
    "# Get average age & store as float64\n",
    "average_age = dataset['Age'].mode().loc[0]\n",
    "\n",
    "MissingValues.arbitrary_value_imputer(dataset, 'Age', average_age)\n",
    "MissingValues.arbitrary_value_imputer(dataset, 'Medal', 'no_medal')\n",
    "MissingValues.height_imputer(dataset, average_height)\n",
    "MissingValues.weight_imputer(dataset, average_weight)"
   ]
  },
  {
   "cell_type": "code",
   "execution_count": null,
   "id": "c6e5218a",
   "metadata": {},
   "outputs": [],
   "source": [
    "# Imputed dataset ( outliers still present )\n",
    "dataset.info()\n",
    "dataset.head()"
   ]
  },
  {
   "cell_type": "markdown",
   "id": "45f1a8e3",
   "metadata": {},
   "source": [
    "### Handling Outliers\n",
    "We remove the outliers by calculating the IQR score for Age, Height, Weight (numerical type data)"
   ]
  },
  {
   "cell_type": "code",
   "execution_count": null,
   "id": "9916ca6f-1db1-4345-8249-6a82d9687b91",
   "metadata": {},
   "outputs": [],
   "source": [
    "age_outliers,height_outliers,weight_outliers = Outliers.get_outliers(dataset[['Age','Height','Weight']])\n",
    "\n",
    "\n",
    "outliers_ind=pd.Index.union(weight_outliers.index,height_outliers.index)\n",
    "outliers_ind=pd.Index.union(outliers_ind,age_outliers.index)\n",
    "\n",
    "dataset_no_outliers = dataset.drop(outliers_ind)\n"
   ]
  },
  {
   "cell_type": "markdown",
   "id": "93155e97",
   "metadata": {},
   "source": [
    "# Research Questions Explored Below"
   ]
  },
  {
   "cell_type": "markdown",
   "id": "3c54e9b5",
   "metadata": {},
   "source": [
    "### Question 1: Relationship between obesity rates in participants and NOC ( country )"
   ]
  },
  {
   "cell_type": "markdown",
   "id": "2cebe46a",
   "metadata": {},
   "source": [
    "#### Steps to get to reach an answer:\n",
    "- We create a dataset with country ( NOC ), and other elements needed for BMI & BF formula calculations\n",
    "- We create a gender splitting functions that shows data either for Males / Females\n",
    "- We create a BMI calculating lambda function with the formula (weight / height^2)\n",
    "- We create a BodyFat lambda function with the formula ( (1.2 x BMI) + (0.23 x Age) - 16.2 {if female it's 5.4} )\n",
    "- We separate the male and female dataframes\n",
    "- We apply the functions to both males and females then display resulting dataframes descendingly"
   ]
  },
  {
   "cell_type": "code",
   "execution_count": null,
   "id": "ea2dcb89-8220-4ac1-9167-bf73bbf64397",
   "metadata": {},
   "outputs": [],
   "source": [
    "# dataframe with values needed\n",
    "avg_shwn_df = dataset[['NOC','Sex','Height','Weight','Age']]\n",
    "\n",
    "# Function to return dataset with only males / females based on input\n",
    "gender_split = lambda df:(df[df.Sex=='M'],df[df.Sex=='F'])\n",
    "\n",
    "# calculating BMI for males / females\n",
    "# splitting & calc BMI   \n",
    "males_df,females_df = gender_split(avg_shwn_df)\n",
    "males_df['BMI'] = Features.calc_BMI(avg_shwn_df['Weight'],avg_shwn_df['Height'] )\n",
    "females_df['BMI'] = Features.calc_BMI(avg_shwn_df['Weight'],avg_shwn_df['Height'] )\n",
    "\n",
    "\n",
    "# Calc AvgBodyFat Percentage\n",
    "males_df['AvgBF%'] = males_df.apply(Features.calc_body_fat,axis=1)\n",
    "females_df['AvgBF%'] = females_df.apply(Features.calc_body_fat,axis=1)\n",
    "\n",
    "# Displaying outputs\n",
    "print(\"Male Average\")\n",
    "display(males_df.groupby('NOC').mean().sort_values('AvgBF%',ascending=False))\n",
    "print(\"Female Average\")\n",
    "display(females_df.groupby('NOC').mean().sort_values('AvgBF%',ascending=False))"
   ]
  },
  {
   "cell_type": "markdown",
   "id": "60808d37",
   "metadata": {},
   "source": [
    "#### Plotting Average Height, Weight, Body Fat for males & females\n",
    "we're printing a histogram for the heights of makes and females. The first 3 refer to males and the later 3 refer to the females"
   ]
  },
  {
   "cell_type": "code",
   "execution_count": null,
   "id": "be69af8c",
   "metadata": {},
   "outputs": [],
   "source": [
    "chart_m = males_df.groupby('NOC').mean().sort_values('AvgBF%',ascending=False)\n",
    "chart_f = females_df.groupby('NOC').mean().sort_values('AvgBF%',ascending=False)\n",
    "# Plot Average Height, Weight, BodyFat\n",
    "for col in ['Height', 'Weight', 'AvgBF%']:\n",
    "    fig,axes = plt.subplots(1,2,figsize=(18,9))\n",
    "    fig.suptitle(f\"{col} distribution\")\n",
    "    sns.histplot(ax=axes[0],data=chart_m[col]).set_title(\"males\")\n",
    "    sns.histplot(ax=axes[1],data=chart_f[col]).set_title(\"females\")"
   ]
  },
  {
   "cell_type": "markdown",
   "id": "fc5578d1",
   "metadata": {},
   "source": [
    "### Question 2: What is the the ratio of men to women as well as the top 10 most popular sports for men and women ?\n",
    "#### Steps taken to reach the answer:\n",
    "- We first create a summerData dataframe and use it for getting the ration of men vs women\n",
    "    - We chose to do this instead of using both summer and winter data because prior to 1996 all of the games were performed    sequentially but this changed to the 4 year cycle that we know today and in the visualizations causes a weird up and down behaviour the gives a wrong impression of the data. We decided to plot both summer and winter and found out from the plot that more games were held in the summer and that the summer data SPECIFICALLY for this part of the question was more descripitive as the graph as more variation and ups and downs, so we chose to omit the winter data and only use the summer data. It is to be noted though that both winter and summer data show the same general trend. We only did this for ratio calculation but not for the top 10 since it wasn't needed.\n",
    "- We then grouped the male female data by year and sex, get the size of it and then plot it using sns.lineplot\n",
    "- to get the data for top 10 games, we use the normal dataset that is filtered based on sex so we can get male/female games and stored in a player male female dataframe.\n",
    "- we then take this dataframe and group all the results by their size and sort descendingly and display the first 10.\n",
    "- we display the result below for males and females in a tabular format as a panada series"
   ]
  },
  {
   "cell_type": "markdown",
   "id": "9badedcd",
   "metadata": {},
   "source": [
    "#### We're also plotting the results as a barplot below. The plots are self descriptive"
   ]
  },
  {
   "cell_type": "code",
   "execution_count": null,
   "id": "ffa549a8-0bd8-46f3-882d-e1829580a9fa",
   "metadata": {},
   "outputs": [],
   "source": [
    "# Summer dataframe init\n",
    "summer_df = dataset[dataset['Season'] == 'Summer']\n",
    "\n",
    "# Function to calculate ratio of men to women\n",
    "def ratio_men_women(dataset):\n",
    "    mf_summer = dataset.groupby(['Year', 'Sex']).size().unstack()\n",
    "    mf_chart = sns.lineplot(data=mf_summer)\n",
    "    return mf_chart\n",
    "\n",
    "# Function to find top 10 events by gender\n",
    "def events_by_gender(dataset, sex):\n",
    "    player_mf = dataset[dataset['Sex'] == sex]\n",
    "    chart_mf = player_mf.groupby('Event').size().sort_values(ascending= False).head(10)\n",
    "    return chart_mf\n",
    "\n",
    "# Display & output of functions\n",
    "print('Mens Top 10 games')\n",
    "male_top_10= events_by_gender(dataset, 'M')\n",
    "sns.barplot(x=male_top_10.values, y=male_top_10.index)\n",
    "plt.legend([],[], frameon=False) # removes legend\n",
    "plt.show()\n",
    "\n",
    "print('Womens Top 10 games')\n",
    "female_top_10= events_by_gender(dataset, 'F')\n",
    "sns.barplot(x=female_top_10.values, y=female_top_10.index)\n",
    "plt.legend([],[], frameon=False) # removes legend\n",
    "plt.show()\n",
    "\n",
    "print('Ratio of Men to Women')\n",
    "ratio_men_women(summer_df)\n",
    "\n",
    "\n",
    "\n"
   ]
  },
  {
   "cell_type": "markdown",
   "id": "855ba7a8",
   "metadata": {},
   "source": [
    "## Milestone_2: Noc_Regions Integration:"
   ]
  },
  {
   "cell_type": "code",
   "execution_count": null,
   "id": "b7e717bc",
   "metadata": {},
   "outputs": [],
   "source": [
    "noc_df = pd.read_csv('./data/noc_regions.csv')\n",
    "\n",
    "display(noc_df.info())\n",
    "display(noc_df.head(10))\n",
    "noc_df[noc_df['region'].isna()]"
   ]
  },
  {
   "cell_type": "markdown",
   "id": "647b49e0",
   "metadata": {},
   "source": [
    "#### Handling NaN Values in NOC csv file\n",
    "The NOC CSV file has a 91% missing percentage for the notes entries. This data is MNAR since it's referring to a team that is formed based on a province / sub country within the main region it belongs to ( hong_kong & china for example ). We'll just replace all the missing values with a static value saying ( region_is_noc ) to show that the NOC is referring to the entire region for that entry and not a province / sub team. We'll do this using the arbitrary value substitution technique like we did above for medals.\n",
    "###### Notes:\n",
    "We'll fill the NaN values in region with their corresponding Notes since they're referring to either what region the team is from or if they're an independant team (IOC Refugee Olympic Team ) "
   ]
  },
  {
   "cell_type": "code",
   "execution_count": null,
   "id": "21533a1a",
   "metadata": {},
   "outputs": [],
   "source": [
    "# Percentage of missing NaN values:\n",
    "missingValues = MissingValues.get_nan_values_percentage(noc_df)\n",
    "missingValues"
   ]
  },
  {
   "cell_type": "code",
   "execution_count": null,
   "id": "a0a18136",
   "metadata": {},
   "outputs": [],
   "source": [
    "# Notes column imputation (implementation in missingValues.py file)\n",
    "MissingValues.arbitrary_value_imputer(noc_df, 'notes', 'region_is_noc')\n",
    "\n",
    "# Imputing region based on notes\n",
    "MissingValues.region_imputer(noc_df, 'notes', 'region')"
   ]
  },
  {
   "cell_type": "code",
   "execution_count": null,
   "id": "510921f0",
   "metadata": {},
   "outputs": [],
   "source": [
    "# Merging Noc_regions.csv with athlete_events.csv \n",
    "# Note: We drop regions since NOC has more regions that aren't included in the noc_regions.csv file \n",
    "# and we won't face any data loss.\n",
    "merged_df = dataset.merge(noc_df, how='outer', on='NOC').drop(columns='region').rename(columns={'notes': 'Notes'})\n",
    "merged_df.info()\n",
    "merged_df.head(10)"
   ]
  },
  {
   "cell_type": "code",
   "execution_count": null,
   "id": "674cfac5",
   "metadata": {},
   "outputs": [],
   "source": [
    "# Handling NaN values resulting from athlete_events.csv having more regions than noc_regions.csv\n",
    "MissingValues.arbitrary_value_imputer(merged_df, 'Notes', 'no_notes')\n",
    "merged_df.info()\n",
    "display(merged_df.head())"
   ]
  },
  {
   "cell_type": "markdown",
   "id": "570311d5",
   "metadata": {},
   "source": [
    "### Integrating the \"Medals.xlsx\" dataset"
   ]
  },
  {
   "cell_type": "code",
   "execution_count": null,
   "id": "8c0c9e87",
   "metadata": {},
   "outputs": [],
   "source": [
    "# Loading the dataset\n",
    "medals_df = pd.read_excel('./data/Medals.xlsx')\n",
    "medals_df.sort_values('Total', ascending=False).head(10)\n",
    "medals_df.rename(columns={'Team/NOC': 'Team'}, inplace=True)\n",
    "medals_df = clean_country(medals_df,'Team' ,output_format=\"alpha-3\")\n",
    "medals_df['Year'] = 2021\n",
    "medals_df.rename(columns={'Team_clean': 'NOC'}, inplace=True)\n",
    "medals_df.drop(columns=['Rank by Total','Rank'], axis=1, inplace=True)\n",
    "medals_df.head(40)"
   ]
  },
  {
   "cell_type": "code",
   "execution_count": null,
   "id": "a816786c",
   "metadata": {},
   "outputs": [],
   "source": [
    "# medals_df[medals_df['Team'] == 'United States of America']"
   ]
  },
  {
   "cell_type": "code",
   "execution_count": null,
   "id": "549e3cdb",
   "metadata": {},
   "outputs": [],
   "source": [
    "#total_merge_df = merged_df.merge(medals_df, how='outer', on='Team')\n",
    "total_merge_df= merged_df.drop(columns=['ID', 'Name', 'Sex', 'Age', 'Height', 'Weight', 'Games', 'Season', 'City', 'Sport', 'Event', 'Notes'], axis= 1)\n",
    "total_merge_df.info()\n",
    "medals_noc_df = pd.concat([total_merge_df, medals_df],ignore_index=True)\n",
    "MissingValues.arbitrary_value_imputer(medals_noc_df, 'Medal', 'no_medal')\n",
    "medals_noc_df.head(10)\n",
    "\n",
    "MissingValues.arbitrary_value_imputer(medals_noc_df, 'Gold', 0)\n",
    "MissingValues.arbitrary_value_imputer(medals_noc_df, 'Silver', 0)\n",
    "MissingValues.arbitrary_value_imputer(medals_noc_df, 'Bronze', 0)\n",
    "MissingValues.arbitrary_value_imputer(medals_noc_df, 'Total', 0)\n",
    "medals_noc_df.head(10)\n",
    "\n",
    "for row in medals_noc_df.index:\n",
    "    if(medals_noc_df['Medal'][row] == 'Gold'):\n",
    "        medals_noc_df['Gold'][row] +=1\n",
    "        medals_noc_df['Total'][row] +=1\n",
    "    if(medals_noc_df['Medal'][row] == 'Silver'):\n",
    "        medals_noc_df['Silver'][row] +=1\n",
    "        medals_noc_df['Total'][row] +=1\n",
    "    if(medals_noc_df['Medal'][row] == 'Bronze'):\n",
    "        medals_noc_df['Bronze'][row] +=1\n",
    "        medals_noc_df['Total'][row] +=1\n"
   ]
  },
  {
   "cell_type": "code",
   "execution_count": null,
   "id": "b27eaa8a",
   "metadata": {},
   "outputs": [],
   "source": [
    "medals_noc_df.sort_values('Year', ascending=True).head(20)\n",
    "\n",
    "grouped = medals_noc_df.sort_values(['Year'], ascending=False).groupby(['Year','Medal']).size().to_frame()\n",
    "pd.reset_option('^display.', silent=True)\n",
    "\n",
    "ax = grouped.unstack(level=0).plot(kind='bar', figsize=(9, 7))\n",
    "plt.show()"
   ]
  },
  {
   "cell_type": "code",
   "execution_count": null,
   "id": "04cfdd6f-a328-4833-86a1-81792a4fdb65",
   "metadata": {},
   "outputs": [],
   "source": [
    "medals_noc_df.to_csv(\"data/medals_noc_integrated.csv\")"
   ]
  },
  {
   "cell_type": "code",
   "execution_count": null,
   "id": "fcfab26c-fb96-45f3-a7cf-3d39d3c5d241",
   "metadata": {},
   "outputs": [],
   "source": []
  }
 ],
 "metadata": {
  "kernelspec": {
   "display_name": "Python 3 (ipykernel)",
   "language": "python",
   "name": "python3"
  },
  "language_info": {
   "codemirror_mode": {
    "name": "ipython",
    "version": 3
   },
   "file_extension": ".py",
   "mimetype": "text/x-python",
   "name": "python",
   "nbconvert_exporter": "python",
   "pygments_lexer": "ipython3",
   "version": "3.9.7"
  }
 },
 "nbformat": 4,
 "nbformat_minor": 5
}

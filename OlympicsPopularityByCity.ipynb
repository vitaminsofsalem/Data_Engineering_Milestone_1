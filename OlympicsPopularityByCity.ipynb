{
 "cells": [
  {
   "cell_type": "code",
   "execution_count": 1,
   "id": "381d34c8-9a9d-461a-b83b-470c7787f86e",
   "metadata": {},
   "outputs": [],
   "source": [
    "import numpy as np\n",
    "import pandas as pd\n",
    "import matplotlib.pyplot as plt\n",
    "from sklearn.multiclass import OneVsRestClassifier\n",
    "from sklearn.svm import SVC\n",
    "from DataProcTools.DataCleaning import MissingValues\n",
    "import seaborn as sns\n",
    "sns.set_theme(style=\"whitegrid\")"
   ]
  },
  {
   "cell_type": "markdown",
   "id": "c2942a04-5e03-40e8-97a1-f6cf9eee4219",
   "metadata": {},
   "source": [
    "# What is the most common city for holding the olympic games?\n",
    "let's get the city frequency of the olympics using the following dataset\n"
   ]
  },
  {
   "cell_type": "code",
   "execution_count": 2,
   "id": "6dbddcba-b20f-4a95-af67-ad62a37921b5",
   "metadata": {},
   "outputs": [
    {
     "data": {
      "text/html": [
       "<div>\n",
       "<style scoped>\n",
       "    .dataframe tbody tr th:only-of-type {\n",
       "        vertical-align: middle;\n",
       "    }\n",
       "\n",
       "    .dataframe tbody tr th {\n",
       "        vertical-align: top;\n",
       "    }\n",
       "\n",
       "    .dataframe thead th {\n",
       "        text-align: right;\n",
       "    }\n",
       "</style>\n",
       "<table border=\"1\" class=\"dataframe\">\n",
       "  <thead>\n",
       "    <tr style=\"text-align: right;\">\n",
       "      <th></th>\n",
       "      <th>ID</th>\n",
       "      <th>Name</th>\n",
       "      <th>Sex</th>\n",
       "      <th>Age</th>\n",
       "      <th>Height</th>\n",
       "      <th>Weight</th>\n",
       "      <th>Team</th>\n",
       "      <th>NOC</th>\n",
       "      <th>Games</th>\n",
       "      <th>Year</th>\n",
       "      <th>Season</th>\n",
       "      <th>City</th>\n",
       "      <th>Sport</th>\n",
       "      <th>Event</th>\n",
       "      <th>Medal</th>\n",
       "    </tr>\n",
       "  </thead>\n",
       "  <tbody>\n",
       "    <tr>\n",
       "      <th>0</th>\n",
       "      <td>1</td>\n",
       "      <td>A Dijiang</td>\n",
       "      <td>M</td>\n",
       "      <td>24.0</td>\n",
       "      <td>180.0</td>\n",
       "      <td>80.0</td>\n",
       "      <td>China</td>\n",
       "      <td>CHN</td>\n",
       "      <td>1992 Summer</td>\n",
       "      <td>1992</td>\n",
       "      <td>Summer</td>\n",
       "      <td>Barcelona</td>\n",
       "      <td>Basketball</td>\n",
       "      <td>Basketball Men's Basketball</td>\n",
       "      <td>NaN</td>\n",
       "    </tr>\n",
       "    <tr>\n",
       "      <th>1</th>\n",
       "      <td>2</td>\n",
       "      <td>A Lamusi</td>\n",
       "      <td>M</td>\n",
       "      <td>23.0</td>\n",
       "      <td>170.0</td>\n",
       "      <td>60.0</td>\n",
       "      <td>China</td>\n",
       "      <td>CHN</td>\n",
       "      <td>2012 Summer</td>\n",
       "      <td>2012</td>\n",
       "      <td>Summer</td>\n",
       "      <td>London</td>\n",
       "      <td>Judo</td>\n",
       "      <td>Judo Men's Extra-Lightweight</td>\n",
       "      <td>NaN</td>\n",
       "    </tr>\n",
       "    <tr>\n",
       "      <th>2</th>\n",
       "      <td>3</td>\n",
       "      <td>Gunnar Nielsen Aaby</td>\n",
       "      <td>M</td>\n",
       "      <td>24.0</td>\n",
       "      <td>NaN</td>\n",
       "      <td>NaN</td>\n",
       "      <td>Denmark</td>\n",
       "      <td>DEN</td>\n",
       "      <td>1920 Summer</td>\n",
       "      <td>1920</td>\n",
       "      <td>Summer</td>\n",
       "      <td>Antwerpen</td>\n",
       "      <td>Football</td>\n",
       "      <td>Football Men's Football</td>\n",
       "      <td>NaN</td>\n",
       "    </tr>\n",
       "    <tr>\n",
       "      <th>3</th>\n",
       "      <td>4</td>\n",
       "      <td>Edgar Lindenau Aabye</td>\n",
       "      <td>M</td>\n",
       "      <td>34.0</td>\n",
       "      <td>NaN</td>\n",
       "      <td>NaN</td>\n",
       "      <td>Denmark/Sweden</td>\n",
       "      <td>DEN</td>\n",
       "      <td>1900 Summer</td>\n",
       "      <td>1900</td>\n",
       "      <td>Summer</td>\n",
       "      <td>Paris</td>\n",
       "      <td>Tug-Of-War</td>\n",
       "      <td>Tug-Of-War Men's Tug-Of-War</td>\n",
       "      <td>Gold</td>\n",
       "    </tr>\n",
       "    <tr>\n",
       "      <th>4</th>\n",
       "      <td>5</td>\n",
       "      <td>Christine Jacoba Aaftink</td>\n",
       "      <td>F</td>\n",
       "      <td>21.0</td>\n",
       "      <td>185.0</td>\n",
       "      <td>82.0</td>\n",
       "      <td>Netherlands</td>\n",
       "      <td>NED</td>\n",
       "      <td>1988 Winter</td>\n",
       "      <td>1988</td>\n",
       "      <td>Winter</td>\n",
       "      <td>Calgary</td>\n",
       "      <td>Speed Skating</td>\n",
       "      <td>Speed Skating Women's 500 metres</td>\n",
       "      <td>NaN</td>\n",
       "    </tr>\n",
       "  </tbody>\n",
       "</table>\n",
       "</div>"
      ],
      "text/plain": [
       "   ID                      Name Sex   Age  Height  Weight            Team  \\\n",
       "0   1                 A Dijiang   M  24.0   180.0    80.0           China   \n",
       "1   2                  A Lamusi   M  23.0   170.0    60.0           China   \n",
       "2   3       Gunnar Nielsen Aaby   M  24.0     NaN     NaN         Denmark   \n",
       "3   4      Edgar Lindenau Aabye   M  34.0     NaN     NaN  Denmark/Sweden   \n",
       "4   5  Christine Jacoba Aaftink   F  21.0   185.0    82.0     Netherlands   \n",
       "\n",
       "   NOC        Games  Year  Season       City          Sport  \\\n",
       "0  CHN  1992 Summer  1992  Summer  Barcelona     Basketball   \n",
       "1  CHN  2012 Summer  2012  Summer     London           Judo   \n",
       "2  DEN  1920 Summer  1920  Summer  Antwerpen       Football   \n",
       "3  DEN  1900 Summer  1900  Summer      Paris     Tug-Of-War   \n",
       "4  NED  1988 Winter  1988  Winter    Calgary  Speed Skating   \n",
       "\n",
       "                              Event Medal  \n",
       "0       Basketball Men's Basketball   NaN  \n",
       "1      Judo Men's Extra-Lightweight   NaN  \n",
       "2           Football Men's Football   NaN  \n",
       "3       Tug-Of-War Men's Tug-Of-War  Gold  \n",
       "4  Speed Skating Women's 500 metres   NaN  "
      ]
     },
     "execution_count": 2,
     "metadata": {},
     "output_type": "execute_result"
    }
   ],
   "source": [
    "dataset = pd.read_csv('data/athlete_events.csv')\n",
    "dataset.head()"
   ]
  },
  {
   "cell_type": "markdown",
   "id": "471f5652-a9ed-4fb0-a7ac-691112cbcf7b",
   "metadata": {},
   "source": [
    "## Steps\n",
    " - Project the City and Games column\n",
    " - Group the dataframes by Games\n",
    " - Count the frequency of the city"
   ]
  },
  {
   "cell_type": "code",
   "execution_count": 3,
   "id": "5482c695-8d45-44a0-8150-fd942c6681e9",
   "metadata": {},
   "outputs": [
    {
     "data": {
      "text/plain": [
       "[Text(0.5, 0, 'Most popular cities for hosting the olympics')]"
      ]
     },
     "execution_count": 3,
     "metadata": {},
     "output_type": "execute_result"
    },
    {
     "data": {
      "image/png": "[encoded data removed]",
      "text/plain": [
       "<Figure size 432x288 with 1 Axes>"
      ]
     },
     "metadata": {},
     "output_type": "display_data"
    }
   ],
   "source": [
    "frequent_cities = dataset[['City','Games']].groupby('Games').first().value_counts('City')\n",
    "top = frequent_cities[:5]\n",
    "\n",
    "ax = sns.barplot(x=top.index,y=top)\n",
    "ax.set(xlabel='Most popular cities for hosting the olympics')"
   ]
  },
  {
   "cell_type": "markdown",
   "id": "46b2fcf2-bfe4-4625-b68d-77b81ef03587",
   "metadata": {},
   "source": [
    "## it seems that the olympics is most commonly hosted in these 5 cities\n",
    "\n",
    "### Note that there are 2 different seasons for the summer games, the season could be a possible factor in the popularity of the city, so we split our dataset into summer and winter\n"
   ]
  },
  {
   "cell_type": "code",
   "execution_count": 4,
   "id": "f3e65ced-b5aa-4eea-ba1d-49e0fe5cccdb",
   "metadata": {},
   "outputs": [
    {
     "data": {
      "text/plain": [
       "[Text(0.5, 0, 'most commonly hosted city for summer olympics')]"
      ]
     },
     "execution_count": 4,
     "metadata": {},
     "output_type": "execute_result"
    },
    {
     "data": {
      "image/png": "[encoded data removed]",
      "text/plain": [
       "<Figure size 432x288 with 1 Axes>"
      ]
     },
     "metadata": {},
     "output_type": "display_data"
    }
   ],
   "source": [
    "summer_ds,winter_ds =  dataset[dataset.Season=='Summer'],dataset[dataset.Season=='Winter']\n",
    "summer_city_freq,winter_city_freq = summer_ds[['City','Games']].groupby('Games').first().value_counts('City'),winter_ds[['City','Games']].groupby('Games').first().value_counts('City')\n",
    "top_summer = summer_city_freq[:5]\n",
    "ax = sns.barplot(x=top_summer.index,y=top_summer.values)\n",
    "ax.set(xlabel='most commonly hosted city for summer olympics')"
   ]
  },
  {
   "cell_type": "markdown",
   "id": "ce738e99-c9b0-46aa-a8d6-18b7e57b7a30",
   "metadata": {},
   "source": [
    "#### these are the most frequent destinations for the summer activities, they have moderate weather during the summer, making them suitable for diverse selection of activities"
   ]
  },
  {
   "cell_type": "code",
   "execution_count": 5,
   "id": "3cb58ef4-29b0-4e72-9fc3-143ef1be1071",
   "metadata": {},
   "outputs": [
    {
     "data": {
      "text/plain": [
       "[Text(0.5, 0, 'most commonly hosted city for winter olympics')]"
      ]
     },
     "execution_count": 5,
     "metadata": {},
     "output_type": "execute_result"
    },
    {
     "data": {
      "image/png": "[encoded data removed]",
      "text/plain": [
       "<Figure size 432x288 with 1 Axes>"
      ]
     },
     "metadata": {},
     "output_type": "display_data"
    }
   ],
   "source": [
    "top_winter = winter_city_freq[:5]\n",
    "ax = sns.barplot(x=top_winter.index,y=top_winter.values)\n",
    "ax.set(xlabel='most commonly hosted city for winter olympics')"
   ]
  },
  {
   "cell_type": "markdown",
   "id": "c429c980-3d73-4289-8bd6-d88207a0c525",
   "metadata": {
    "tags": []
   },
   "source": [
    "#### the most hosted cities for winter olympics have ideal weather and terrain for activities like skiing and skating"
   ]
  },
  {
   "cell_type": "markdown",
   "id": "b9ea8ed4-be08-4de7-88a6-1f89e3e26439",
   "metadata": {},
   "source": [
    "## IMPORTANT NOTE : the above conclusion is merely based on the total frequency of the olympics in every city, therefore does not reflect the scale of the pariticipation in the games, which leads us to another questions\n",
    "\n",
    "# Which Cities host the largest Olympic games?"
   ]
  },
  {
   "cell_type": "markdown",
   "id": "db662a63-dcb6-403d-9df6-0dce76f660af",
   "metadata": {},
   "source": [
    "## Steps\n",
    " - Project the City\n",
    " - Since each row represents a participant in the olympics, we count the frequency of the city\n",
    " - Which should represent the total number of participants that have joined the olympics in a particular city"
   ]
  },
  {
   "cell_type": "code",
   "execution_count": 6,
   "id": "0022dbee-63fe-454b-bb11-75ea03917447",
   "metadata": {},
   "outputs": [
    {
     "data": {
      "text/plain": [
       "[Text(0.5, 0, 'most popular city for olympics')]"
      ]
     },
     "execution_count": 6,
     "metadata": {},
     "output_type": "execute_result"
    },
    {
     "data": {
      "image/png": "[encoded data removed]",
      "text/plain": [
       "<Figure size 432x288 with 1 Axes>"
      ]
     },
     "metadata": {},
     "output_type": "display_data"
    }
   ],
   "source": [
    "popular_cities =  dataset[['City','Games']].value_counts('City')\n",
    "top = popular_cities[:5]\n",
    "ax = sns.barplot(x=top.index,y=top.values)\n",
    "ax.set(xlabel='most popular city for olympics')"
   ]
  },
  {
   "cell_type": "markdown",
   "id": "0351d8b0-3642-434b-b4c0-d4b6e6e9f2b9",
   "metadata": {},
   "source": [
    "## London takes the lead by the total number of pariticipants that they hosted\n",
    "\n",
    "### we will also do our summer/winter split here\n"
   ]
  },
  {
   "cell_type": "code",
   "execution_count": 10,
   "id": "eb603a07-95fb-40e2-9868-21555dc11e1e",
   "metadata": {},
   "outputs": [],
   "source": [
    "popular_summer_cities,popular_winter_cities = summer_ds[['City']].value_counts('City'),winter_ds[['City']].value_counts('City')"
   ]
  },
  {
   "cell_type": "code",
   "execution_count": 11,
   "id": "9395abb2-08ee-413f-88d5-91c5d4fca37c",
   "metadata": {},
   "outputs": [
    {
     "data": {
      "text/plain": [
       "[Text(0.5, 0, 'most popular city for summer olympics')]"
      ]
     },
     "execution_count": 11,
     "metadata": {},
     "output_type": "execute_result"
    },
    {
     "data": {
      "image/png": "[encoded data removed]",
      "text/plain": [
       "<Figure size 432x288 with 1 Axes>"
      ]
     },
     "metadata": {},
     "output_type": "display_data"
    }
   ],
   "source": [
    "top = popular_summer_cities[:5]\n",
    "ax = sns.barplot(x=top.index,y=top.values)\n",
    "ax.set(xlabel='most popular city for summer olympics')"
   ]
  },
  {
   "cell_type": "markdown",
   "id": "089b2438-b814-4481-95e6-7e4b6968ab02",
   "metadata": {},
   "source": [
    "## the lead is still consistent\n",
    "### let's check out the winter"
   ]
  },
  {
   "cell_type": "code",
   "execution_count": 12,
   "id": "32245156-c5dd-46f6-9f84-d870f1f94da0",
   "metadata": {},
   "outputs": [
    {
     "data": {
      "text/plain": [
       "[Text(0.5, 0, 'most popular city for winter olympics')]"
      ]
     },
     "execution_count": 12,
     "metadata": {},
     "output_type": "execute_result"
    },
    {
     "data": {
      "image/png": "[encoded data removed]",
      "text/plain": [
       "<Figure size 432x288 with 1 Axes>"
      ]
     },
     "metadata": {},
     "output_type": "display_data"
    }
   ],
   "source": [
    "\n",
    "top = popular_winter_cities[:5]\n",
    "ax = sns.barplot(x=top.index,y=top.values)\n",
    "ax.set(xlabel='most popular city for winter olympics')"
   ]
  },
  {
   "cell_type": "markdown",
   "id": "2cbe45e5-8622-452c-aa44-7489d61ead2e",
   "metadata": {},
   "source": [
    "## these are the winter season cities with the largest pariticipants"
   ]
  }
 ],
 "metadata": {
  "kernelspec": {
   "display_name": "Python 3 (ipykernel)",
   "language": "python",
   "name": "python3"
  },
  "language_info": {
   "codemirror_mode": {
    "name": "ipython",
    "version": 3
   },
   "file_extension": ".py",
   "mimetype": "text/x-python",
   "name": "python",
   "nbconvert_exporter": "python",
   "pygments_lexer": "ipython3",
   "version": "3.9.7"
  }
 },
 "nbformat": 4,
 "nbformat_minor": 5
}
